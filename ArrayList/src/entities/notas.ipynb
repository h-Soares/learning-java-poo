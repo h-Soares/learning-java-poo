{
 "cells": [
  {
   "cell_type": "code",
   "execution_count": null,
   "metadata": {},
   "outputs": [],
   "source": [
    "List<String> list = new ArrayList<>();\n",
    "\n",
    "list.add(\"Joao\");\n",
    "list.add(\"Maria\");\n",
    "list.add(1, \"Alex\");\n",
    "list.add(\"Monica\");\n",
    "list.add(\"Matheus\");\n",
    "list.add(\"Joao\");\n",
    "\n",
    "System.out.println(\"SIZE: \" + list.size());\n",
    "System.out.println();\n",
    "\n",
    "for(String nome : list)\n",
    "    System.out.println(nome);\n",
    "\n",
    "System.out.println(\"-------------------------\");\n",
    "\n",
    "//list.removeIf(x -> x.charAt(0) == 'M');\n",
    "\n",
    "for(String nome : list)\n",
    "    System.out.println(nome);\n",
    "\n",
    "System.out.println(\"Index of Joao: \" + list.indexOf(\"Joao\"));\n",
    "if(list.contains(\"Zezin\"))\n",
    "    System.out.println(\"Sim\");\n",
    "else\n",
    "    System.out.println(\"Nao\");"
   ]
  }
 ],
 "metadata": {
  "language_info": {
   "name": "python"
  },
  "orig_nbformat": 4
 },
 "nbformat": 4,
 "nbformat_minor": 2
}
